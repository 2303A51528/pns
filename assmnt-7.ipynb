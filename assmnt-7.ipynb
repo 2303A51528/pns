{
  "nbformat": 4,
  "nbformat_minor": 0,
  "metadata": {
    "colab": {
      "provenance": [],
      "authorship_tag": "ABX9TyOKzMGlbi1BIoZixVqEE4gZ",
      "include_colab_link": true
    },
    "kernelspec": {
      "name": "python3",
      "display_name": "Python 3"
    },
    "language_info": {
      "name": "python"
    }
  },
  "cells": [
    {
      "cell_type": "markdown",
      "metadata": {
        "id": "view-in-github",
        "colab_type": "text"
      },
      "source": [
        "<a href=\"https://colab.research.google.com/github/2303A51528/pns/blob/main/assmnt-7.ipynb\" target=\"_parent\"><img src=\"https://colab.research.google.com/assets/colab-badge.svg\" alt=\"Open In Colab\"/></a>"
      ]
    },
    {
      "cell_type": "code",
      "execution_count": 4,
      "metadata": {
        "id": "uf7l6pmLh7sE",
        "outputId": "6b024a13-5c1b-41c3-88eb-78beaf2c9450",
        "colab": {
          "base_uri": "https://localhost:8080/"
        }
      },
      "outputs": [
        {
          "output_type": "stream",
          "name": "stdout",
          "text": [
            "Sample Mean: 27466.666666666668\n",
            "Sample Standard Deviation: 3748.650550849059\n",
            "95% Confidence Interval: (25390.733185830333, 29542.600147503003)\n",
            "The claimed mean of ₹30,000 is outside the confidence interval. We have enough evidence to reject the claim.\n"
          ]
        }
      ],
      "source": [
        "import numpy as np\n",
        "import scipy.stats as stats\n",
        "\n",
        "# Given data\n",
        "data = np.array([25000, 31000, 20000, 28000, 29500, 32000, 21000, 30500, 27000, 28500, 30000, 23000, 31000, 26000, 29500])\n",
        "\n",
        "# Step 1: Compute sample mean and standard deviation\n",
        "sample_mean = np.mean(data)\n",
        "sample_std = np.std(data, ddof=1)  # Using Bessel's correction (ddof=1) for sample standard deviation\n",
        "n = len(data)\n",
        "\n",
        "# Step 2: Calculate the 95% confidence interval for the sample mean\n",
        "confidence_level = 0.95\n",
        "alpha = 1 - confidence_level\n",
        "t_critical = stats.t.ppf(1 - alpha/2, df=n-1)  # t-score for two-tailed test with df=n-1\n",
        "margin_of_error = t_critical * (sample_std / np.sqrt(n))\n",
        "\n",
        "lower_bound = sample_mean - margin_of_error\n",
        "upper_bound = sample_mean + margin_of_error\n",
        "\n",
        "# Print results\n",
        "print(f\"Sample Mean: {sample_mean}\")\n",
        "print(f\"Sample Standard Deviation: {sample_std}\")\n",
        "print(f\"95% Confidence Interval: ({lower_bound}, {upper_bound})\")\n",
        "\n",
        "# Hypothesis test assessment\n",
        "claimed_mean = 30000\n",
        "if lower_bound <= claimed_mean <= upper_bound:\n",
        "    print(\"The claimed mean of ₹30,000 is within the confidence interval. We do not have enough evidence to reject the claim.\")\n",
        "else:\n",
        "    print(\"The claimed mean of ₹30,000 is outside the confidence interval. We have enough evidence to reject the claim.\")\n"
      ]
    }
  ]
}